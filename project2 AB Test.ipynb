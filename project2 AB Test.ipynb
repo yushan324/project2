{
  "cells": [
    {
      "cell_type": "markdown",
      "metadata": {
        "id": "jjz8VA7dF1Sq"
      },
      "source": [
        "# Lecture 5 Conversion Analysis on Web Design"
      ]
    },
    {
      "cell_type": "markdown",
      "metadata": {
        "id": "Qh0TjJXhF1Sv"
      },
      "source": [
        "## 1. Introduction\n",
        "For this project, we will be analyzing the results of an A/B test run by an e-commerce website.  The final goal is to help the company understand if they should implement the new page, keep the old page, or perhaps run the experiment longer to make their decision"
      ]
    },
    {
      "cell_type": "markdown",
      "metadata": {
        "id": "vORDPHO9F1Sw"
      },
      "source": [
        "## 2. Import data & data cleaning"
      ]
    },
    {
      "cell_type": "code",
      "execution_count": 9,
      "metadata": {
        "_uuid": "568c6fcb459807292819a2e1986d8ba5c488e572",
        "id": "mBIwh9sFF1S0"
      },
      "outputs": [],
      "source": [
        "import pandas as pd\n",
        "import numpy as np\n",
        "import matplotlib.pyplot as plt\n",
        "\n",
        "%matplotlib inline"
      ]
    },
    {
      "cell_type": "code",
      "execution_count": 10,
      "metadata": {
        "_uuid": "be81d7cec27cd0ae71d776d22424df366925163d",
        "id": "knAECGvgF1TQ",
        "outputId": "f39b78e0-4080-47c0-bfce-36dd00602ad2"
      },
      "outputs": [
        {
          "data": {
            "text/html": [
              "<div>\n",
              "<style scoped>\n",
              "    .dataframe tbody tr th:only-of-type {\n",
              "        vertical-align: middle;\n",
              "    }\n",
              "\n",
              "    .dataframe tbody tr th {\n",
              "        vertical-align: top;\n",
              "    }\n",
              "\n",
              "    .dataframe thead th {\n",
              "        text-align: right;\n",
              "    }\n",
              "</style>\n",
              "<table border=\"1\" class=\"dataframe\">\n",
              "  <thead>\n",
              "    <tr style=\"text-align: right;\">\n",
              "      <th></th>\n",
              "      <th>user_id</th>\n",
              "      <th>timestamp</th>\n",
              "      <th>group</th>\n",
              "      <th>landing_page</th>\n",
              "      <th>converted</th>\n",
              "    </tr>\n",
              "  </thead>\n",
              "  <tbody>\n",
              "    <tr>\n",
              "      <th>0</th>\n",
              "      <td>851104</td>\n",
              "      <td>11:48.6</td>\n",
              "      <td>control</td>\n",
              "      <td>old_page</td>\n",
              "      <td>0</td>\n",
              "    </tr>\n",
              "    <tr>\n",
              "      <th>1</th>\n",
              "      <td>804228</td>\n",
              "      <td>01:45.2</td>\n",
              "      <td>control</td>\n",
              "      <td>old_page</td>\n",
              "      <td>0</td>\n",
              "    </tr>\n",
              "    <tr>\n",
              "      <th>2</th>\n",
              "      <td>661590</td>\n",
              "      <td>55:06.2</td>\n",
              "      <td>treatment</td>\n",
              "      <td>new_page</td>\n",
              "      <td>1</td>\n",
              "    </tr>\n",
              "    <tr>\n",
              "      <th>3</th>\n",
              "      <td>853541</td>\n",
              "      <td>28:03.1</td>\n",
              "      <td>treatment</td>\n",
              "      <td>new_page</td>\n",
              "      <td>1</td>\n",
              "    </tr>\n",
              "    <tr>\n",
              "      <th>4</th>\n",
              "      <td>864975</td>\n",
              "      <td>52:26.2</td>\n",
              "      <td>control</td>\n",
              "      <td>old_page</td>\n",
              "      <td>1</td>\n",
              "    </tr>\n",
              "  </tbody>\n",
              "</table>\n",
              "</div>"
            ],
            "text/plain": [
              "   user_id timestamp      group landing_page  converted\n",
              "0   851104   11:48.6    control     old_page          0\n",
              "1   804228   01:45.2    control     old_page          0\n",
              "2   661590   55:06.2  treatment     new_page          1\n",
              "3   853541   28:03.1  treatment     new_page          1\n",
              "4   864975   52:26.2    control     old_page          1"
            ]
          },
          "execution_count": 10,
          "metadata": {},
          "output_type": "execute_result"
        }
      ],
      "source": [
        "df=pd.read_csv('Copy of sample ab_data.csv')\n",
        "df.head()"
      ]
    },
    {
      "cell_type": "markdown",
      "metadata": {
        "_uuid": "1f31f0e218afefc4704f566d19c65d5ed2dcf347",
        "id": "8qaUoBsqF1Tn"
      },
      "source": [
        "Get an overview of the dataset"
      ]
    },
    {
      "cell_type": "code",
      "execution_count": 11,
      "metadata": {
        "_uuid": "a6e31d6c72fbea227fec4621d0797cd4d2c56fcf",
        "id": "S22-bneEF1Tn",
        "outputId": "e640cb13-5f5f-4358-f853-74dee1568e37"
      },
      "outputs": [
        {
          "name": "stdout",
          "output_type": "stream",
          "text": [
            "<class 'pandas.core.frame.DataFrame'>\n",
            "RangeIndex: 294478 entries, 0 to 294477\n",
            "Data columns (total 5 columns):\n",
            " #   Column        Non-Null Count   Dtype \n",
            "---  ------        --------------   ----- \n",
            " 0   user_id       294478 non-null  int64 \n",
            " 1   timestamp     294478 non-null  object\n",
            " 2   group         294478 non-null  object\n",
            " 3   landing_page  294478 non-null  object\n",
            " 4   converted     294478 non-null  int64 \n",
            "dtypes: int64(2), object(3)\n",
            "memory usage: 11.2+ MB\n"
          ]
        }
      ],
      "source": [
        "df.info()"
      ]
    },
    {
      "cell_type": "markdown",
      "metadata": {
        "_uuid": "753b4c9dd6621a1b1a861d74220e99bcf133f0ca",
        "id": "KHEp376lF1T4"
      },
      "source": [
        "Check if `group` aligns with `landing_page`"
      ]
    },
    {
      "cell_type": "code",
      "execution_count": 12,
      "metadata": {
        "id": "8BDOxS7YF1T-",
        "outputId": "3afd9ee1-58a2-4068-813f-1a08afcf5cf3"
      },
      "outputs": [
        {
          "data": {
            "text/plain": [
              "1965"
            ]
          },
          "execution_count": 12,
          "metadata": {},
          "output_type": "execute_result"
        }
      ],
      "source": [
        "((df.group=='treatment') & (df.landing_page=='old_page')).sum()"
      ]
    },
    {
      "cell_type": "code",
      "execution_count": 13,
      "metadata": {
        "id": "dIKz7sevF1UN",
        "outputId": "f5ac9033-233c-49d1-be04-b4fa42f5866b"
      },
      "outputs": [
        {
          "data": {
            "text/plain": [
              "1928"
            ]
          },
          "execution_count": 13,
          "metadata": {},
          "output_type": "execute_result"
        }
      ],
      "source": [
        "((df.group=='control') & (df.landing_page=='new_page')).sum()"
      ]
    },
    {
      "cell_type": "code",
      "execution_count": 14,
      "metadata": {
        "id": "X_li-kN2F1UX"
      },
      "outputs": [],
      "source": [
        "df['misaligned']=((df.group=='treatment') & (df.landing_page=='old_page')) | ((df.group=='control') & (df.landing_page=='new_page'))\n",
        "df = df[-df['misaligned']] # show rows with False in misagligned"
      ]
    },
    {
      "cell_type": "code",
      "execution_count": 15,
      "metadata": {
        "id": "zpbIttdzF1Un",
        "outputId": "12960216-e5a5-413a-d7df-0c35d2851277"
      },
      "outputs": [
        {
          "name": "stdout",
          "output_type": "stream",
          "text": [
            "<class 'pandas.core.frame.DataFrame'>\n",
            "Index: 290585 entries, 0 to 294477\n",
            "Data columns (total 6 columns):\n",
            " #   Column        Non-Null Count   Dtype \n",
            "---  ------        --------------   ----- \n",
            " 0   user_id       290585 non-null  int64 \n",
            " 1   timestamp     290585 non-null  object\n",
            " 2   group         290585 non-null  object\n",
            " 3   landing_page  290585 non-null  object\n",
            " 4   converted     290585 non-null  int64 \n",
            " 5   misaligned    290585 non-null  bool  \n",
            "dtypes: bool(1), int64(2), object(3)\n",
            "memory usage: 13.6+ MB\n"
          ]
        }
      ],
      "source": [
        "df.info()"
      ]
    },
    {
      "cell_type": "markdown",
      "metadata": {
        "id": "E9gEIt6jF1U3"
      },
      "source": [
        "Check unique users"
      ]
    },
    {
      "cell_type": "code",
      "execution_count": 16,
      "metadata": {
        "_uuid": "5689a11664ef6bf559d3a56425766727f5b4090a",
        "id": "KT-fdeSsF1U3",
        "outputId": "291bfc3f-ff55-41a7-8d39-12c08d87d883"
      },
      "outputs": [
        {
          "data": {
            "text/plain": [
              "290584"
            ]
          },
          "execution_count": 16,
          "metadata": {},
          "output_type": "execute_result"
        }
      ],
      "source": [
        "df.user_id.nunique()"
      ]
    },
    {
      "cell_type": "code",
      "execution_count": 17,
      "metadata": {
        "id": "0sh0ib_vF1VF",
        "outputId": "f74eb601-d9ad-4eeb-ab7e-2ddba1fdaea2"
      },
      "outputs": [
        {
          "data": {
            "text/plain": [
              "user_id\n",
              "773192    2\n",
              "834487    1\n",
              "936923    1\n",
              "679687    1\n",
              "719014    1\n",
              "Name: count, dtype: int64"
            ]
          },
          "execution_count": 17,
          "metadata": {},
          "output_type": "execute_result"
        }
      ],
      "source": [
        "df['user_id'].value_counts().sort_values(ascending=False).head()"
      ]
    },
    {
      "cell_type": "markdown",
      "metadata": {
        "id": "dHxEuQ8HK508"
      },
      "source": [
        "# make assumption:\n",
        "## let's assume"
      ]
    },
    {
      "cell_type": "code",
      "execution_count": 18,
      "metadata": {
        "id": "M20udeCyF1VR",
        "outputId": "ac8ae5bf-a2f8-4ed3-d8e9-859830a2e636"
      },
      "outputs": [
        {
          "data": {
            "text/html": [
              "<div>\n",
              "<style scoped>\n",
              "    .dataframe tbody tr th:only-of-type {\n",
              "        vertical-align: middle;\n",
              "    }\n",
              "\n",
              "    .dataframe tbody tr th {\n",
              "        vertical-align: top;\n",
              "    }\n",
              "\n",
              "    .dataframe thead th {\n",
              "        text-align: right;\n",
              "    }\n",
              "</style>\n",
              "<table border=\"1\" class=\"dataframe\">\n",
              "  <thead>\n",
              "    <tr style=\"text-align: right;\">\n",
              "      <th></th>\n",
              "      <th>user_id</th>\n",
              "      <th>timestamp</th>\n",
              "      <th>group</th>\n",
              "      <th>landing_page</th>\n",
              "      <th>converted</th>\n",
              "      <th>misaligned</th>\n",
              "    </tr>\n",
              "  </thead>\n",
              "  <tbody>\n",
              "    <tr>\n",
              "      <th>1899</th>\n",
              "      <td>773192</td>\n",
              "      <td>37:58.8</td>\n",
              "      <td>treatment</td>\n",
              "      <td>new_page</td>\n",
              "      <td>1</td>\n",
              "      <td>False</td>\n",
              "    </tr>\n",
              "    <tr>\n",
              "      <th>2893</th>\n",
              "      <td>773192</td>\n",
              "      <td>55:59.6</td>\n",
              "      <td>treatment</td>\n",
              "      <td>new_page</td>\n",
              "      <td>0</td>\n",
              "      <td>False</td>\n",
              "    </tr>\n",
              "  </tbody>\n",
              "</table>\n",
              "</div>"
            ],
            "text/plain": [
              "      user_id timestamp      group landing_page  converted  misaligned\n",
              "1899   773192   37:58.8  treatment     new_page          1       False\n",
              "2893   773192   55:59.6  treatment     new_page          0       False"
            ]
          },
          "execution_count": 18,
          "metadata": {},
          "output_type": "execute_result"
        }
      ],
      "source": [
        "df[df['user_id']==773192]"
      ]
    },
    {
      "cell_type": "code",
      "execution_count": 19,
      "metadata": {
        "id": "KjvR2M5DF1Vd"
      },
      "outputs": [],
      "source": [
        "df.drop(1899, axis = 0,inplace = True)"
      ]
    },
    {
      "cell_type": "code",
      "execution_count": 20,
      "metadata": {
        "id": "LBHgN6BYF1Vn",
        "outputId": "b2aa4718-d906-4b9c-b287-4fc6a7551beb"
      },
      "outputs": [
        {
          "data": {
            "text/plain": [
              "user_id\n",
              "851104    1\n",
              "834487    1\n",
              "936923    1\n",
              "679687    1\n",
              "719014    1\n",
              "Name: count, dtype: int64"
            ]
          },
          "execution_count": 20,
          "metadata": {},
          "output_type": "execute_result"
        }
      ],
      "source": [
        "df['user_id'].value_counts().sort_values(ascending=False).head()"
      ]
    },
    {
      "cell_type": "markdown",
      "metadata": {
        "id": "8Zhx0iH2F1V3"
      },
      "source": [
        "How many users in each group"
      ]
    },
    {
      "cell_type": "code",
      "execution_count": 21,
      "metadata": {
        "id": "zGpebKd1F1V3",
        "outputId": "b0a155c1-ae52-46ae-a5cd-40e8e07e612a"
      },
      "outputs": [
        {
          "data": {
            "text/html": [
              "<div>\n",
              "<style scoped>\n",
              "    .dataframe tbody tr th:only-of-type {\n",
              "        vertical-align: middle;\n",
              "    }\n",
              "\n",
              "    .dataframe tbody tr th {\n",
              "        vertical-align: top;\n",
              "    }\n",
              "\n",
              "    .dataframe thead th {\n",
              "        text-align: right;\n",
              "    }\n",
              "</style>\n",
              "<table border=\"1\" class=\"dataframe\">\n",
              "  <thead>\n",
              "    <tr style=\"text-align: right;\">\n",
              "      <th></th>\n",
              "      <th>user_id</th>\n",
              "    </tr>\n",
              "    <tr>\n",
              "      <th>group</th>\n",
              "      <th></th>\n",
              "    </tr>\n",
              "  </thead>\n",
              "  <tbody>\n",
              "    <tr>\n",
              "      <th>control</th>\n",
              "      <td>145274</td>\n",
              "    </tr>\n",
              "    <tr>\n",
              "      <th>treatment</th>\n",
              "      <td>145310</td>\n",
              "    </tr>\n",
              "  </tbody>\n",
              "</table>\n",
              "</div>"
            ],
            "text/plain": [
              "           user_id\n",
              "group             \n",
              "control     145274\n",
              "treatment   145310"
            ]
          },
          "execution_count": 21,
          "metadata": {},
          "output_type": "execute_result"
        }
      ],
      "source": [
        "df[['user_id','group']].groupby('group').count()"
      ]
    },
    {
      "cell_type": "markdown",
      "metadata": {
        "id": "5UDVQvPQF1WK"
      },
      "source": [
        "Conversion rate in each group"
      ]
    },
    {
      "cell_type": "code",
      "execution_count": 22,
      "metadata": {
        "id": "q88bJU9cF1WL",
        "outputId": "518c411d-4b13-4dcc-bd0b-908a4847144e"
      },
      "outputs": [
        {
          "data": {
            "text/html": [
              "<div>\n",
              "<style scoped>\n",
              "    .dataframe tbody tr th:only-of-type {\n",
              "        vertical-align: middle;\n",
              "    }\n",
              "\n",
              "    .dataframe tbody tr th {\n",
              "        vertical-align: top;\n",
              "    }\n",
              "\n",
              "    .dataframe thead th {\n",
              "        text-align: right;\n",
              "    }\n",
              "</style>\n",
              "<table border=\"1\" class=\"dataframe\">\n",
              "  <thead>\n",
              "    <tr style=\"text-align: right;\">\n",
              "      <th></th>\n",
              "      <th>user_id</th>\n",
              "      <th>converted</th>\n",
              "    </tr>\n",
              "    <tr>\n",
              "      <th>group</th>\n",
              "      <th></th>\n",
              "      <th></th>\n",
              "    </tr>\n",
              "  </thead>\n",
              "  <tbody>\n",
              "    <tr>\n",
              "      <th>control</th>\n",
              "      <td>145274</td>\n",
              "      <td>17489</td>\n",
              "    </tr>\n",
              "    <tr>\n",
              "      <th>treatment</th>\n",
              "      <td>145310</td>\n",
              "      <td>18215</td>\n",
              "    </tr>\n",
              "  </tbody>\n",
              "</table>\n",
              "</div>"
            ],
            "text/plain": [
              "           user_id  converted\n",
              "group                        \n",
              "control     145274      17489\n",
              "treatment   145310      18215"
            ]
          },
          "execution_count": 22,
          "metadata": {},
          "output_type": "execute_result"
        }
      ],
      "source": [
        "df[['user_id','group','converted']].groupby('group').agg({'user_id':'count','converted':'mean', 'converted':'sum'})"
      ]
    },
    {
      "cell_type": "markdown",
      "metadata": {
        "id": "jMSqKuReF1WZ"
      },
      "source": [
        "## 3. Analyze results"
      ]
    },
    {
      "cell_type": "markdown",
      "metadata": {
        "id": "jtCI8wWiF1We"
      },
      "source": [
        "Let's assume that the new page does not have higher conversion rate than the old page at 5% Type I error. So the hypothesis woule be:"
      ]
    },
    {
      "cell_type": "markdown",
      "metadata": {
        "id": "0yxbDgV2F1Wf"
      },
      "source": [
        "**null:** **$p_{new}$** - **$p_{old}$** <=0\n",
        "\n",
        "**alternative:** **$p_{new}$** - **$p_{old}$** >0"
      ]
    },
    {
      "cell_type": "code",
      "execution_count": 23,
      "metadata": {
        "id": "tMvxjuMzF1Wj",
        "outputId": "270e4450-3abe-42b5-b80c-0aeaf1de4b73"
      },
      "outputs": [
        {
          "data": {
            "text/plain": [
              "(17489, 18215, 145274, 145310)"
            ]
          },
          "execution_count": 23,
          "metadata": {},
          "output_type": "execute_result"
        }
      ],
      "source": [
        "convert_old = df[df.group=='control'].converted.sum()\n",
        "convert_new = df[df.group=='treatment'].converted.sum()\n",
        "n_old = len(df[df.group=='control'].converted)\n",
        "n_new= len(df[df.group=='treatment'].converted)\n",
        "\n",
        "convert_old, convert_new, n_old, n_new"
      ]
    },
    {
      "cell_type": "code",
      "execution_count": 24,
      "metadata": {
        "id": "U7hXGU4OF1W8",
        "outputId": "d8f879ad-15be-488b-f3aa-7ff8783bf3b4"
      },
      "outputs": [
        {
          "data": {
            "text/html": [
              "<div>\n",
              "<style scoped>\n",
              "    .dataframe tbody tr th:only-of-type {\n",
              "        vertical-align: middle;\n",
              "    }\n",
              "\n",
              "    .dataframe tbody tr th {\n",
              "        vertical-align: top;\n",
              "    }\n",
              "\n",
              "    .dataframe thead th {\n",
              "        text-align: right;\n",
              "    }\n",
              "</style>\n",
              "<table border=\"1\" class=\"dataframe\">\n",
              "  <thead>\n",
              "    <tr style=\"text-align: right;\">\n",
              "      <th></th>\n",
              "      <th>Views</th>\n",
              "      <th>Converts</th>\n",
              "      <th>Conversion %</th>\n",
              "    </tr>\n",
              "  </thead>\n",
              "  <tbody>\n",
              "    <tr>\n",
              "      <th>Control</th>\n",
              "      <td>145274</td>\n",
              "      <td>17489</td>\n",
              "      <td>12.0%</td>\n",
              "    </tr>\n",
              "    <tr>\n",
              "      <th>Test</th>\n",
              "      <td>145310</td>\n",
              "      <td>18215</td>\n",
              "      <td>12.5%</td>\n",
              "    </tr>\n",
              "  </tbody>\n",
              "</table>\n",
              "</div>"
            ],
            "text/plain": [
              "          Views  Converts Conversion %\n",
              "Control  145274     17489        12.0%\n",
              "Test     145310     18215        12.5%"
            ]
          },
          "execution_count": 24,
          "metadata": {},
          "output_type": "execute_result"
        }
      ],
      "source": [
        "conversion_dic = {'Views':{'Control':n_old,'Test':n_new},'Converts': {'Control':convert_old,'Test':convert_new}}\n",
        "conversion_table = pd.DataFrame(conversion_dic)\n",
        "conversion_table['Conversion %'] = conversion_table['Converts'] / conversion_table['Views']\n",
        "conversion_table['Conversion %'] = conversion_table['Conversion %'].apply(lambda x: str(np.round(x,3)*100)+'%')\n",
        "conversion_table"
      ]
    },
    {
      "cell_type": "markdown",
      "metadata": {
        "id": "-_aR1gckF1XJ"
      },
      "source": [
        "### 3.1 Z-test in our way"
      ]
    },
    {
      "cell_type": "code",
      "execution_count": 25,
      "metadata": {
        "id": "TL7ru0QnF1XU"
      },
      "outputs": [],
      "source": [
        "def z_test(p1,p0,n1,n0):\n",
        "    delta = p1-p0\n",
        "    p = (p1*n1 + p0*n0) / (n1+n0)\n",
        "    return delta / np.sqrt(p*(1-p)*(1/n1 + 1/n0))"
      ]
    },
    {
      "cell_type": "code",
      "execution_count": 26,
      "metadata": {
        "id": "-oSlIEnmF1Xj"
      },
      "outputs": [],
      "source": [
        "p1 = convert_new / n_new\n",
        "p0 = convert_old / n_old\n",
        "n1 = n_new\n",
        "n0 = n_old"
      ]
    },
    {
      "cell_type": "code",
      "execution_count": 27,
      "metadata": {
        "id": "2PxNzONJF1Xs",
        "outputId": "d72b52cf-9c84-4c4e-c0e7-166254f71b29"
      },
      "outputs": [
        {
          "data": {
            "text/plain": [
              "4.077481782861739"
            ]
          },
          "execution_count": 27,
          "metadata": {},
          "output_type": "execute_result"
        }
      ],
      "source": [
        "z_value = z_test(p1,p0,n1,n0)\n",
        "z_value"
      ]
    },
    {
      "cell_type": "code",
      "execution_count": 28,
      "metadata": {
        "id": "oh02zuyCF1X2",
        "outputId": "dc5cfd29-e948-4e40-cf27-5c46453425cb"
      },
      "outputs": [
        {
          "data": {
            "text/plain": [
              "2.276304781123617e-05"
            ]
          },
          "execution_count": 28,
          "metadata": {},
          "output_type": "execute_result"
        }
      ],
      "source": [
        "from scipy.stats import norm\n",
        "p_value = 1- norm.cdf(z_value)\n",
        "\n",
        "p_value"
      ]
    },
    {
      "cell_type": "markdown",
      "metadata": {
        "id": "HBj5Jd5XF1YE"
      },
      "source": [
        "p-value is less than 0.05, so we can reject null hypothesis and accept alternative hypothesis that\n",
        "<br>**$p_{new}$** - **$p_{old}$** >0, the new page has higher conversion rate than the old page"
      ]
    },
    {
      "cell_type": "markdown",
      "metadata": {
        "id": "dyVP54k2F1YG"
      },
      "source": [
        "### 3.2 Z-test in Statsmodels"
      ]
    },
    {
      "cell_type": "code",
      "execution_count": 29,
      "metadata": {
        "id": "smNXt1U3F1YJ"
      },
      "outputs": [],
      "source": [
        "import statsmodels.api as sm"
      ]
    },
    {
      "cell_type": "code",
      "execution_count": 30,
      "metadata": {
        "id": "QDuh3K6nF1YS",
        "outputId": "33ee8461-477e-4e53-8823-e610632f5fe8"
      },
      "outputs": [
        {
          "data": {
            "text/plain": [
              "(4.077481782861739, 2.276304781118429e-05)"
            ]
          },
          "execution_count": 30,
          "metadata": {},
          "output_type": "execute_result"
        }
      ],
      "source": [
        "z_score, p_value = sm.stats.proportions_ztest([convert_new, convert_old], [n_new, n_old], alternative='larger')\n",
        "z_score, p_value"
      ]
    },
    {
      "cell_type": "markdown",
      "metadata": {
        "id": "LuX6PFW4F1Yd"
      },
      "source": [
        "p-value is less than 0.05, so we can reject null hypothesis and accept alternative hypothesis that\n",
        "<br>**$p_{new}$** - **$p_{old}$** >0, the new page has higher conversion rate than the old page"
      ]
    },
    {
      "cell_type": "markdown",
      "metadata": {
        "id": "n1K0Sp3hTYy-"
      },
      "source": [
        "# bonus - > eda - line plot 2 color control vs treatment"
      ]
    },
    {
      "cell_type": "code",
      "execution_count": 34,
      "metadata": {},
      "outputs": [
        {
          "data": {
            "text/html": [
              "<div>\n",
              "<style scoped>\n",
              "    .dataframe tbody tr th:only-of-type {\n",
              "        vertical-align: middle;\n",
              "    }\n",
              "\n",
              "    .dataframe tbody tr th {\n",
              "        vertical-align: top;\n",
              "    }\n",
              "\n",
              "    .dataframe thead th {\n",
              "        text-align: right;\n",
              "    }\n",
              "</style>\n",
              "<table border=\"1\" class=\"dataframe\">\n",
              "  <thead>\n",
              "    <tr style=\"text-align: right;\">\n",
              "      <th></th>\n",
              "      <th>user_id</th>\n",
              "      <th>timestamp</th>\n",
              "      <th>group</th>\n",
              "      <th>landing_page</th>\n",
              "      <th>converted</th>\n",
              "      <th>misaligned</th>\n",
              "      <th>hour</th>\n",
              "    </tr>\n",
              "  </thead>\n",
              "  <tbody>\n",
              "    <tr>\n",
              "      <th>0</th>\n",
              "      <td>851104</td>\n",
              "      <td>11:48.6</td>\n",
              "      <td>control</td>\n",
              "      <td>old_page</td>\n",
              "      <td>0</td>\n",
              "      <td>False</td>\n",
              "      <td>11</td>\n",
              "    </tr>\n",
              "    <tr>\n",
              "      <th>1</th>\n",
              "      <td>804228</td>\n",
              "      <td>01:45.2</td>\n",
              "      <td>control</td>\n",
              "      <td>old_page</td>\n",
              "      <td>0</td>\n",
              "      <td>False</td>\n",
              "      <td>1</td>\n",
              "    </tr>\n",
              "    <tr>\n",
              "      <th>2</th>\n",
              "      <td>661590</td>\n",
              "      <td>55:06.2</td>\n",
              "      <td>treatment</td>\n",
              "      <td>new_page</td>\n",
              "      <td>1</td>\n",
              "      <td>False</td>\n",
              "      <td>55</td>\n",
              "    </tr>\n",
              "    <tr>\n",
              "      <th>3</th>\n",
              "      <td>853541</td>\n",
              "      <td>28:03.1</td>\n",
              "      <td>treatment</td>\n",
              "      <td>new_page</td>\n",
              "      <td>1</td>\n",
              "      <td>False</td>\n",
              "      <td>28</td>\n",
              "    </tr>\n",
              "    <tr>\n",
              "      <th>4</th>\n",
              "      <td>864975</td>\n",
              "      <td>52:26.2</td>\n",
              "      <td>control</td>\n",
              "      <td>old_page</td>\n",
              "      <td>1</td>\n",
              "      <td>False</td>\n",
              "      <td>52</td>\n",
              "    </tr>\n",
              "    <tr>\n",
              "      <th>...</th>\n",
              "      <td>...</td>\n",
              "      <td>...</td>\n",
              "      <td>...</td>\n",
              "      <td>...</td>\n",
              "      <td>...</td>\n",
              "      <td>...</td>\n",
              "      <td>...</td>\n",
              "    </tr>\n",
              "    <tr>\n",
              "      <th>294473</th>\n",
              "      <td>751197</td>\n",
              "      <td>28:38.6</td>\n",
              "      <td>control</td>\n",
              "      <td>old_page</td>\n",
              "      <td>0</td>\n",
              "      <td>False</td>\n",
              "      <td>28</td>\n",
              "    </tr>\n",
              "    <tr>\n",
              "      <th>294474</th>\n",
              "      <td>945152</td>\n",
              "      <td>51:57.1</td>\n",
              "      <td>control</td>\n",
              "      <td>old_page</td>\n",
              "      <td>0</td>\n",
              "      <td>False</td>\n",
              "      <td>51</td>\n",
              "    </tr>\n",
              "    <tr>\n",
              "      <th>294475</th>\n",
              "      <td>734608</td>\n",
              "      <td>45:03.4</td>\n",
              "      <td>control</td>\n",
              "      <td>old_page</td>\n",
              "      <td>0</td>\n",
              "      <td>False</td>\n",
              "      <td>45</td>\n",
              "    </tr>\n",
              "    <tr>\n",
              "      <th>294476</th>\n",
              "      <td>697314</td>\n",
              "      <td>20:29.0</td>\n",
              "      <td>control</td>\n",
              "      <td>old_page</td>\n",
              "      <td>0</td>\n",
              "      <td>False</td>\n",
              "      <td>20</td>\n",
              "    </tr>\n",
              "    <tr>\n",
              "      <th>294477</th>\n",
              "      <td>715931</td>\n",
              "      <td>40:24.5</td>\n",
              "      <td>treatment</td>\n",
              "      <td>new_page</td>\n",
              "      <td>0</td>\n",
              "      <td>False</td>\n",
              "      <td>40</td>\n",
              "    </tr>\n",
              "  </tbody>\n",
              "</table>\n",
              "<p>290584 rows × 7 columns</p>\n",
              "</div>"
            ],
            "text/plain": [
              "        user_id timestamp      group landing_page  converted  misaligned  hour\n",
              "0        851104   11:48.6    control     old_page          0       False    11\n",
              "1        804228   01:45.2    control     old_page          0       False     1\n",
              "2        661590   55:06.2  treatment     new_page          1       False    55\n",
              "3        853541   28:03.1  treatment     new_page          1       False    28\n",
              "4        864975   52:26.2    control     old_page          1       False    52\n",
              "...         ...       ...        ...          ...        ...         ...   ...\n",
              "294473   751197   28:38.6    control     old_page          0       False    28\n",
              "294474   945152   51:57.1    control     old_page          0       False    51\n",
              "294475   734608   45:03.4    control     old_page          0       False    45\n",
              "294476   697314   20:29.0    control     old_page          0       False    20\n",
              "294477   715931   40:24.5  treatment     new_page          0       False    40\n",
              "\n",
              "[290584 rows x 7 columns]"
            ]
          },
          "execution_count": 34,
          "metadata": {},
          "output_type": "execute_result"
        }
      ],
      "source": [
        "# Extract hour from timestamp and create a now column called hour\n",
        "df['hour'] = df['timestamp'].str.split(':').str[0].astype(int)\n",
        "df\n"
      ]
    },
    {
      "cell_type": "code",
      "execution_count": 43,
      "metadata": {},
      "outputs": [
        {
          "data": {
            "text/html": [
              "<div>\n",
              "<style scoped>\n",
              "    .dataframe tbody tr th:only-of-type {\n",
              "        vertical-align: middle;\n",
              "    }\n",
              "\n",
              "    .dataframe tbody tr th {\n",
              "        vertical-align: top;\n",
              "    }\n",
              "\n",
              "    .dataframe thead th {\n",
              "        text-align: right;\n",
              "    }\n",
              "</style>\n",
              "<table border=\"1\" class=\"dataframe\">\n",
              "  <thead>\n",
              "    <tr style=\"text-align: right;\">\n",
              "      <th>group</th>\n",
              "      <th>control</th>\n",
              "      <th>treatment</th>\n",
              "    </tr>\n",
              "    <tr>\n",
              "      <th>hour</th>\n",
              "      <th></th>\n",
              "      <th></th>\n",
              "    </tr>\n",
              "  </thead>\n",
              "  <tbody>\n",
              "    <tr>\n",
              "      <th>0</th>\n",
              "      <td>0.118893</td>\n",
              "      <td>0.122311</td>\n",
              "    </tr>\n",
              "    <tr>\n",
              "      <th>1</th>\n",
              "      <td>0.128778</td>\n",
              "      <td>0.116889</td>\n",
              "    </tr>\n",
              "    <tr>\n",
              "      <th>2</th>\n",
              "      <td>0.119730</td>\n",
              "      <td>0.127769</td>\n",
              "    </tr>\n",
              "    <tr>\n",
              "      <th>3</th>\n",
              "      <td>0.125789</td>\n",
              "      <td>0.131134</td>\n",
              "    </tr>\n",
              "    <tr>\n",
              "      <th>4</th>\n",
              "      <td>0.124138</td>\n",
              "      <td>0.110793</td>\n",
              "    </tr>\n",
              "    <tr>\n",
              "      <th>5</th>\n",
              "      <td>0.123935</td>\n",
              "      <td>0.128782</td>\n",
              "    </tr>\n",
              "    <tr>\n",
              "      <th>6</th>\n",
              "      <td>0.121355</td>\n",
              "      <td>0.132999</td>\n",
              "    </tr>\n",
              "    <tr>\n",
              "      <th>7</th>\n",
              "      <td>0.121456</td>\n",
              "      <td>0.116079</td>\n",
              "    </tr>\n",
              "    <tr>\n",
              "      <th>8</th>\n",
              "      <td>0.110890</td>\n",
              "      <td>0.124587</td>\n",
              "    </tr>\n",
              "    <tr>\n",
              "      <th>9</th>\n",
              "      <td>0.125362</td>\n",
              "      <td>0.124687</td>\n",
              "    </tr>\n",
              "    <tr>\n",
              "      <th>10</th>\n",
              "      <td>0.128421</td>\n",
              "      <td>0.133278</td>\n",
              "    </tr>\n",
              "    <tr>\n",
              "      <th>11</th>\n",
              "      <td>0.128411</td>\n",
              "      <td>0.126862</td>\n",
              "    </tr>\n",
              "    <tr>\n",
              "      <th>12</th>\n",
              "      <td>0.123777</td>\n",
              "      <td>0.125052</td>\n",
              "    </tr>\n",
              "    <tr>\n",
              "      <th>13</th>\n",
              "      <td>0.118293</td>\n",
              "      <td>0.121380</td>\n",
              "    </tr>\n",
              "    <tr>\n",
              "      <th>14</th>\n",
              "      <td>0.123265</td>\n",
              "      <td>0.120196</td>\n",
              "    </tr>\n",
              "    <tr>\n",
              "      <th>15</th>\n",
              "      <td>0.121728</td>\n",
              "      <td>0.125948</td>\n",
              "    </tr>\n",
              "    <tr>\n",
              "      <th>16</th>\n",
              "      <td>0.117402</td>\n",
              "      <td>0.111482</td>\n",
              "    </tr>\n",
              "    <tr>\n",
              "      <th>17</th>\n",
              "      <td>0.111856</td>\n",
              "      <td>0.112776</td>\n",
              "    </tr>\n",
              "    <tr>\n",
              "      <th>18</th>\n",
              "      <td>0.119641</td>\n",
              "      <td>0.124275</td>\n",
              "    </tr>\n",
              "    <tr>\n",
              "      <th>19</th>\n",
              "      <td>0.107585</td>\n",
              "      <td>0.129059</td>\n",
              "    </tr>\n",
              "    <tr>\n",
              "      <th>20</th>\n",
              "      <td>0.119048</td>\n",
              "      <td>0.133852</td>\n",
              "    </tr>\n",
              "    <tr>\n",
              "      <th>21</th>\n",
              "      <td>0.127296</td>\n",
              "      <td>0.132052</td>\n",
              "    </tr>\n",
              "    <tr>\n",
              "      <th>22</th>\n",
              "      <td>0.125000</td>\n",
              "      <td>0.129591</td>\n",
              "    </tr>\n",
              "    <tr>\n",
              "      <th>23</th>\n",
              "      <td>0.126784</td>\n",
              "      <td>0.115194</td>\n",
              "    </tr>\n",
              "    <tr>\n",
              "      <th>24</th>\n",
              "      <td>0.118219</td>\n",
              "      <td>0.124737</td>\n",
              "    </tr>\n",
              "    <tr>\n",
              "      <th>25</th>\n",
              "      <td>0.116159</td>\n",
              "      <td>0.128701</td>\n",
              "    </tr>\n",
              "    <tr>\n",
              "      <th>26</th>\n",
              "      <td>0.119499</td>\n",
              "      <td>0.113714</td>\n",
              "    </tr>\n",
              "    <tr>\n",
              "      <th>27</th>\n",
              "      <td>0.113663</td>\n",
              "      <td>0.131017</td>\n",
              "    </tr>\n",
              "    <tr>\n",
              "      <th>28</th>\n",
              "      <td>0.121406</td>\n",
              "      <td>0.125710</td>\n",
              "    </tr>\n",
              "    <tr>\n",
              "      <th>29</th>\n",
              "      <td>0.124693</td>\n",
              "      <td>0.123244</td>\n",
              "    </tr>\n",
              "    <tr>\n",
              "      <th>30</th>\n",
              "      <td>0.126545</td>\n",
              "      <td>0.129912</td>\n",
              "    </tr>\n",
              "    <tr>\n",
              "      <th>31</th>\n",
              "      <td>0.108898</td>\n",
              "      <td>0.135858</td>\n",
              "    </tr>\n",
              "    <tr>\n",
              "      <th>32</th>\n",
              "      <td>0.118958</td>\n",
              "      <td>0.139848</td>\n",
              "    </tr>\n",
              "    <tr>\n",
              "      <th>33</th>\n",
              "      <td>0.124191</td>\n",
              "      <td>0.133306</td>\n",
              "    </tr>\n",
              "    <tr>\n",
              "      <th>34</th>\n",
              "      <td>0.125761</td>\n",
              "      <td>0.120586</td>\n",
              "    </tr>\n",
              "    <tr>\n",
              "      <th>35</th>\n",
              "      <td>0.115016</td>\n",
              "      <td>0.126324</td>\n",
              "    </tr>\n",
              "    <tr>\n",
              "      <th>36</th>\n",
              "      <td>0.117113</td>\n",
              "      <td>0.118056</td>\n",
              "    </tr>\n",
              "    <tr>\n",
              "      <th>37</th>\n",
              "      <td>0.107388</td>\n",
              "      <td>0.126801</td>\n",
              "    </tr>\n",
              "    <tr>\n",
              "      <th>38</th>\n",
              "      <td>0.125418</td>\n",
              "      <td>0.132182</td>\n",
              "    </tr>\n",
              "    <tr>\n",
              "      <th>39</th>\n",
              "      <td>0.124628</td>\n",
              "      <td>0.138285</td>\n",
              "    </tr>\n",
              "    <tr>\n",
              "      <th>40</th>\n",
              "      <td>0.120501</td>\n",
              "      <td>0.127964</td>\n",
              "    </tr>\n",
              "    <tr>\n",
              "      <th>41</th>\n",
              "      <td>0.119949</td>\n",
              "      <td>0.119931</td>\n",
              "    </tr>\n",
              "    <tr>\n",
              "      <th>42</th>\n",
              "      <td>0.124798</td>\n",
              "      <td>0.132365</td>\n",
              "    </tr>\n",
              "    <tr>\n",
              "      <th>43</th>\n",
              "      <td>0.123215</td>\n",
              "      <td>0.120875</td>\n",
              "    </tr>\n",
              "    <tr>\n",
              "      <th>44</th>\n",
              "      <td>0.120512</td>\n",
              "      <td>0.128376</td>\n",
              "    </tr>\n",
              "    <tr>\n",
              "      <th>45</th>\n",
              "      <td>0.114887</td>\n",
              "      <td>0.127197</td>\n",
              "    </tr>\n",
              "    <tr>\n",
              "      <th>46</th>\n",
              "      <td>0.123304</td>\n",
              "      <td>0.114214</td>\n",
              "    </tr>\n",
              "    <tr>\n",
              "      <th>47</th>\n",
              "      <td>0.127311</td>\n",
              "      <td>0.131062</td>\n",
              "    </tr>\n",
              "    <tr>\n",
              "      <th>48</th>\n",
              "      <td>0.110607</td>\n",
              "      <td>0.132365</td>\n",
              "    </tr>\n",
              "    <tr>\n",
              "      <th>49</th>\n",
              "      <td>0.111017</td>\n",
              "      <td>0.119048</td>\n",
              "    </tr>\n",
              "    <tr>\n",
              "      <th>50</th>\n",
              "      <td>0.129546</td>\n",
              "      <td>0.116989</td>\n",
              "    </tr>\n",
              "    <tr>\n",
              "      <th>51</th>\n",
              "      <td>0.127288</td>\n",
              "      <td>0.118503</td>\n",
              "    </tr>\n",
              "    <tr>\n",
              "      <th>52</th>\n",
              "      <td>0.116129</td>\n",
              "      <td>0.127633</td>\n",
              "    </tr>\n",
              "    <tr>\n",
              "      <th>53</th>\n",
              "      <td>0.108174</td>\n",
              "      <td>0.117030</td>\n",
              "    </tr>\n",
              "    <tr>\n",
              "      <th>54</th>\n",
              "      <td>0.117909</td>\n",
              "      <td>0.135828</td>\n",
              "    </tr>\n",
              "    <tr>\n",
              "      <th>55</th>\n",
              "      <td>0.124674</td>\n",
              "      <td>0.125252</td>\n",
              "    </tr>\n",
              "    <tr>\n",
              "      <th>56</th>\n",
              "      <td>0.111426</td>\n",
              "      <td>0.128624</td>\n",
              "    </tr>\n",
              "    <tr>\n",
              "      <th>57</th>\n",
              "      <td>0.127325</td>\n",
              "      <td>0.117836</td>\n",
              "    </tr>\n",
              "    <tr>\n",
              "      <th>58</th>\n",
              "      <td>0.119934</td>\n",
              "      <td>0.123519</td>\n",
              "    </tr>\n",
              "    <tr>\n",
              "      <th>59</th>\n",
              "      <td>0.120512</td>\n",
              "      <td>0.130233</td>\n",
              "    </tr>\n",
              "  </tbody>\n",
              "</table>\n",
              "</div>"
            ],
            "text/plain": [
              "group   control  treatment\n",
              "hour                      \n",
              "0      0.118893   0.122311\n",
              "1      0.128778   0.116889\n",
              "2      0.119730   0.127769\n",
              "3      0.125789   0.131134\n",
              "4      0.124138   0.110793\n",
              "5      0.123935   0.128782\n",
              "6      0.121355   0.132999\n",
              "7      0.121456   0.116079\n",
              "8      0.110890   0.124587\n",
              "9      0.125362   0.124687\n",
              "10     0.128421   0.133278\n",
              "11     0.128411   0.126862\n",
              "12     0.123777   0.125052\n",
              "13     0.118293   0.121380\n",
              "14     0.123265   0.120196\n",
              "15     0.121728   0.125948\n",
              "16     0.117402   0.111482\n",
              "17     0.111856   0.112776\n",
              "18     0.119641   0.124275\n",
              "19     0.107585   0.129059\n",
              "20     0.119048   0.133852\n",
              "21     0.127296   0.132052\n",
              "22     0.125000   0.129591\n",
              "23     0.126784   0.115194\n",
              "24     0.118219   0.124737\n",
              "25     0.116159   0.128701\n",
              "26     0.119499   0.113714\n",
              "27     0.113663   0.131017\n",
              "28     0.121406   0.125710\n",
              "29     0.124693   0.123244\n",
              "30     0.126545   0.129912\n",
              "31     0.108898   0.135858\n",
              "32     0.118958   0.139848\n",
              "33     0.124191   0.133306\n",
              "34     0.125761   0.120586\n",
              "35     0.115016   0.126324\n",
              "36     0.117113   0.118056\n",
              "37     0.107388   0.126801\n",
              "38     0.125418   0.132182\n",
              "39     0.124628   0.138285\n",
              "40     0.120501   0.127964\n",
              "41     0.119949   0.119931\n",
              "42     0.124798   0.132365\n",
              "43     0.123215   0.120875\n",
              "44     0.120512   0.128376\n",
              "45     0.114887   0.127197\n",
              "46     0.123304   0.114214\n",
              "47     0.127311   0.131062\n",
              "48     0.110607   0.132365\n",
              "49     0.111017   0.119048\n",
              "50     0.129546   0.116989\n",
              "51     0.127288   0.118503\n",
              "52     0.116129   0.127633\n",
              "53     0.108174   0.117030\n",
              "54     0.117909   0.135828\n",
              "55     0.124674   0.125252\n",
              "56     0.111426   0.128624\n",
              "57     0.127325   0.117836\n",
              "58     0.119934   0.123519\n",
              "59     0.120512   0.130233"
            ]
          },
          "execution_count": 43,
          "metadata": {},
          "output_type": "execute_result"
        }
      ],
      "source": [
        "# Calculate conversion rates for each group\n",
        "conversion_rate = df.groupby(['hour', 'group'])['converted'].mean().unstack()\n",
        "conversion_rate"
      ]
    },
    {
      "cell_type": "markdown",
      "metadata": {},
      "source": [
        "# plot the graph"
      ]
    },
    {
      "cell_type": "code",
      "execution_count": 47,
      "metadata": {},
      "outputs": [
        {
          "data": {
            "image/png": "[encoded data removed]",
            "text/plain": [
              "<Figure size 2400x600 with 1 Axes>"
            ]
          },
          "metadata": {},
          "output_type": "display_data"
        }
      ],
      "source": [
        "import matplotlib.pyplot as plt\n",
        "plt.figure(figsize=(24,6))\n",
        "plt.plot(conversion_rate.index, conversion_rate['control'], label='Control group',marker='o')\n",
        "plt.plot(conversion_rate.index, conversion_rate['treatment'],label='Treatment group', marker = 'o')\n",
        "plt.xlabel('Hour')\n",
        "plt.ylabel('Conversion rate')\n",
        "plt.title('Conversion rate over time')\n",
        "plt.legend()\n",
        "plt.grid(True)\n",
        "plt.show()"
      ]
    }
  ],
  "metadata": {
    "colab": {
      "provenance": []
    },
    "kernelspec": {
      "display_name": "Python 3",
      "language": "python",
      "name": "python3"
    },
    "language_info": {
      "codemirror_mode": {
        "name": "ipython",
        "version": 3
      },
      "file_extension": ".py",
      "mimetype": "text/x-python",
      "name": "python",
      "nbconvert_exporter": "python",
      "pygments_lexer": "ipython3",
      "version": "3.8.18"
    }
  },
  "nbformat": 4,
  "nbformat_minor": 0
}
